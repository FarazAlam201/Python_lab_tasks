{
 "cells": [
  {
   "cell_type": "code",
   "execution_count": 1,
   "id": "3d3662df",
   "metadata": {},
   "outputs": [
    {
     "name": "stdout",
     "output_type": "stream",
     "text": [
      "Enter a length in centimeters which you want to convert : 16\n",
      "6.299212598425196 inch \n"
     ]
    }
   ],
   "source": [
    "cm=eval(input(\"Enter a length in centimeters which you want to convert : \"))\n",
    "if cm<1 :\n",
    "    print(\"The entry is invalid.\")\n",
    "else :\n",
    "    print(f\"{cm/2.54} inch \")"
   ]
  },
  {
   "cell_type": "code",
   "execution_count": 2,
   "id": "c279e66a",
   "metadata": {},
   "outputs": [
    {
     "name": "stdout",
     "output_type": "stream",
     "text": [
      "Enter a temperature : 30\n",
      "What units, Celcius or Fahrenheit : Celsius\n",
      "86.0 Fahrenheit\n"
     ]
    }
   ],
   "source": [
    "temp=eval(input(\"Enter a temperature : \"))\n",
    "unit=input(\"What units, Celcius or Fahrenheit : \")\n",
    "if unit==\"Celsius\" :\n",
    "    print(f\"{(temp*(9/5))+32} Fahrenheit\")\n",
    "elif unit==\"Fahrenheit\" :\n",
    "    print(f\"{(temp-32)/1.80} Celsius\")"
   ]
  },
  {
   "cell_type": "code",
   "execution_count": 3,
   "id": "c6427bf0",
   "metadata": {},
   "outputs": [
    {
     "name": "stdout",
     "output_type": "stream",
     "text": [
      "Enter a temperature in Celsius : 77\n",
      "The temperature is in the normal range.\n"
     ]
    }
   ],
   "source": [
    "temp=eval(input(\"Enter a temperature in Celsius : \"))\n",
    "if temp<-273.15 :\n",
    "    print(\"The temperature is invalid because it is below absolute zero.\")\n",
    "elif temp==-273.15 :\n",
    "    print(\"The temperature is absolute 0.\")\n",
    "elif temp>-273.15 and temp<0 :\n",
    "    print(\"The temperature is below freezing.\")\n",
    "elif temp==0 :\n",
    "    print(\"The temperature is at the freezing point.\")\n",
    "elif temp>0 and temp<100 :\n",
    "    print(\"The temperature is in the normal range.\")\n",
    "elif temp==100 :\n",
    "    print(\"The temperature is at the boiling point.\")\n",
    "elif temp>100 :\n",
    "    print(\"The temperature is above the boiling point.\")"
   ]
  },
  {
   "cell_type": "code",
   "execution_count": 4,
   "id": "d1b12d5a",
   "metadata": {},
   "outputs": [
    {
     "name": "stdout",
     "output_type": "stream",
     "text": [
      "How many credits they have taken : 30\n",
      "They are a sophomore.\n"
     ]
    }
   ],
   "source": [
    "credits=eval(input(\"How many credits they have taken : \"))\n",
    "if credits<=23 :\n",
    "    print(\"The student is a fisherman\")\n",
    "elif credits>=24 and credits<=53 :\n",
    "    print(\"They are a sophomore.\")\n",
    "elif credits>=54 and credits<=83 :\n",
    "    print(\"They are juniors\")\n",
    "elif credits>=84 :\n",
    "    print(\"They are seniors\")"
   ]
  },
  {
   "cell_type": "code",
   "execution_count": null,
   "id": "c2f71cf4",
   "metadata": {},
   "outputs": [],
   "source": []
  }
 ],
 "metadata": {
  "kernelspec": {
   "display_name": "Python 3",
   "language": "python",
   "name": "python3"
  },
  "language_info": {
   "codemirror_mode": {
    "name": "ipython",
    "version": 3
   },
   "file_extension": ".py",
   "mimetype": "text/x-python",
   "name": "python",
   "nbconvert_exporter": "python",
   "pygments_lexer": "ipython3",
   "version": "3.8.8"
  }
 },
 "nbformat": 4,
 "nbformat_minor": 5
}
