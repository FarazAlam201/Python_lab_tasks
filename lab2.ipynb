{
 "cells": [
  {
   "cell_type": "code",
   "execution_count": 1,
   "id": "d977b9cc",
   "metadata": {},
   "outputs": [
    {
     "name": "stdout",
     "output_type": "stream",
     "text": [
      "Result = 0.1017\n"
     ]
    }
   ],
   "source": [
    "# Write a program that computes and prints the result of (512-282)/(47*48+5)  . It is roughly .1017\n",
    "calculation=(512-282)/((47*48)+5)\n",
    "print(\"Result = {:.4f}\".format(calculation))"
   ]
  },
  {
   "cell_type": "code",
   "execution_count": 4,
   "id": "dcc29bb6",
   "metadata": {},
   "outputs": [
    {
     "name": "stdout",
     "output_type": "stream",
     "text": [
      "Enter a number : 5\n",
      "The square of 5 is 25.\n"
     ]
    }
   ],
   "source": [
    "num=eval(input(\"Enter a number : \"))\n",
    "print(f\"The square of {num} is \",num*num,\".\",sep=\"\")"
   ]
  },
  {
   "cell_type": "code",
   "execution_count": 1,
   "id": "f9132003",
   "metadata": {},
   "outputs": [
    {
     "name": "stdout",
     "output_type": "stream",
     "text": [
      "Enter the weight in kilogram : 8\n",
      "17.6 pounds \n"
     ]
    }
   ],
   "source": [
    "cnvrt=eval(input(\"Enter the weight in kilogram : \"))\n",
    "print(f\"{cnvrt*2.2} pounds \")"
   ]
  },
  {
   "cell_type": "code",
   "execution_count": 3,
   "id": "1bb801e1",
   "metadata": {},
   "outputs": [
    {
     "name": "stdout",
     "output_type": "stream",
     "text": [
      "Enter first number : 56\n",
      "Enter second number : 12\n",
      "Enter third number : 30\n",
      "Total value :  98\n",
      "Average value :  32.666666666666664\n"
     ]
    }
   ],
   "source": [
    "num1=eval(input(\"Enter first number : \"))\n",
    "num2=eval(input(\"Enter second number : \")) \n",
    "num3=eval(input(\"Enter third number : \"))\n",
    "total=num1+num2+num3\n",
    "avg=total/3\n",
    "print(\"Total value : \",total) \n",
    "print(\"Average value : \",avg)\n"
   ]
  },
  {
   "cell_type": "code",
   "execution_count": null,
   "id": "5e2ec7bf",
   "metadata": {},
   "outputs": [],
   "source": []
  }
 ],
 "metadata": {
  "kernelspec": {
   "display_name": "Python 3",
   "language": "python",
   "name": "python3"
  },
  "language_info": {
   "codemirror_mode": {
    "name": "ipython",
    "version": 3
   },
   "file_extension": ".py",
   "mimetype": "text/x-python",
   "name": "python",
   "nbconvert_exporter": "python",
   "pygments_lexer": "ipython3",
   "version": "3.8.8"
  }
 },
 "nbformat": 4,
 "nbformat_minor": 5
}
